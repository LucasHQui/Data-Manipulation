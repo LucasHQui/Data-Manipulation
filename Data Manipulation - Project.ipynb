{
 "cells": [
  {
   "cell_type": "markdown",
   "id": "mhIvmmkW414q",
   "metadata": {
    "id": "mhIvmmkW414q"
   },
   "source": [
    "# Introdução\n",
    "\n",
    "A Instacart é uma plataforma de entrega de supermercado onde os clientes podem fazer um pedido de supermercado e receber a compra em casa, semelhante ao funcionamento do Uber Eats e do iFood. O conjunto de dados que fornecemos a você foi modificado do original. Reduzimos o tamanho do conjunto de dados para que seus cálculos sejam executados mais rapidamente e introduzimos valores ausentes e duplicados. Também tivemos o cuidado de preservar as distribuições dos dados originais quando fizemos as alterações.\n",
    "\n",
    "Você precisa completar três etapas. Para cada uma delas, escreva uma breve introdução descrevendo como você pretende concluir a etapa e justifique suas decisões em parágrafos explicativos intermédios a medida que você avança na solução. Escreva também uma conclusão para resumir suas conclusões e escolhas.\n",
    "\n"
   ]
  },
  {
   "cell_type": "markdown",
   "id": "3MbyzpOQZ5Or",
   "metadata": {
    "id": "3MbyzpOQZ5Or"
   },
   "source": [
    "## Dicionário de dados\n",
    "\n",
    "Há cinco tabelas no conjunto de dados, e você vai precisar usar todas elas para pré-processar os dados e fazer a AED. Abaixo está um dicionário que lista as colunas de cada tabela e descreve os dados contidos nelas.\n",
    "\n",
    "- `instacart_orders.csv`: cada linha corresponde a um pedido no aplicativo da Instacart\n",
    "    - `'order_id'`: é o número de identificação unívoco de cada pedido\n",
    "    - `'user_id'`: é o número de identificação unívoco da conta de cada cliente\n",
    "    - `'order_number'`: é o número de vezes que o cliente fez um pedido\n",
    "    - `'order_dow'`: é o dia da semana em que o pedido foi feito (0 é domingo)\n",
    "    - `'order_hour_of_day'`: é a hora do dia em que o pedido foi feito\n",
    "    - `'days_since_prior_order'`: é o número de dias desde que o cliente fez seu pedido anterior\n",
    "\n",
    "\n",
    "\n",
    "\n",
    "- `products.csv`: cada linha corresponde a um produto unívoco que os clientes podem comprar\n",
    "    - `'product_id'`: é o número de identificação unívoco de cada produto\n",
    "    - `'product_name'`: é o nome do produto\n",
    "    - `'aisle_id'`: é o número de identificação unívoco de cada categoria de seção do supermercado\n",
    "    - `'department_id'`: é o número de identificação unívoco de cada categoria de departamento do supermercado\n",
    "\n",
    "\n",
    "\n",
    "\n",
    "-\t`order_products.csv`: cada linha corresponde a um item incluído em um pedido\n",
    "    -\t`'order_id'`: é o número de identificação unívoco de cada pedido\n",
    "    -\t`'product_id'`: é o número de identificação unívoco de cada produto\n",
    "    -\t`'add_to_cart_order'`: é a ordem sequencial em que cada item foi colocado no carrinho\n",
    "    -\t`'reordered'`: 0 se o cliente nunca comprou o produto antes, 1 se já o comprou\n",
    "\n",
    "\n",
    "\n",
    "\n",
    "-\t`aisles.csv`\n",
    "    -\t`'aisle_id'`: é o número de identificação unívoco de cada categoria de seção do supermercado\n",
    "    -\t`'aisle'`: é o nome da seção\n",
    "\n",
    "\n",
    "\n",
    "-\t`departments.csv`\n",
    "    -\t`'department_id'`: é o número de identificação unívoco de cada categoria de departamento do supermercado\n",
    "    -\t`'department'`: é o nome do departamento\n"
   ]
  },
  {
   "cell_type": "markdown",
   "id": "n3Ha_cNSZ8lK",
   "metadata": {
    "id": "n3Ha_cNSZ8lK"
   },
   "source": [
    "# Etapa 1. Visão geral dos dados\n",
    "\n",
    "Leia os arquivos de dados (/datasets/instacart_orders.csv, /datasets/products.csv, /datasets/aisles.csv, /datasets/departments.csv e /datasets/order_products.csv) com `pd.read_csv()` usando os parâmetros apropriados para fazer isso corretamente. Verifique as informações para cada DataFrame criado.\n"
   ]
  },
  {
   "cell_type": "markdown",
   "id": "OmlQPLlyaAfR",
   "metadata": {
    "id": "OmlQPLlyaAfR"
   },
   "source": [
    "## Plano de solução\n",
    "\n",
    "Escreva aqui seu plano para a Etapa 2. Visão geral dos dados"
   ]
  },
  {
   "cell_type": "code",
   "execution_count": 1,
   "id": "fbf1adab",
   "metadata": {
    "id": "fbf1adab"
   },
   "outputs": [],
   "source": [
    "import pandas as pd"
   ]
  },
  {
   "cell_type": "code",
   "execution_count": 2,
   "id": "ad36396d",
   "metadata": {
    "id": "ad36396d"
   },
   "outputs": [],
   "source": [
    "instacart_orders = pd.read_csv('/datasets/instacart_orders.csv', sep=';')\n",
    "products = pd.read_csv('/datasets/products.csv', sep=';')\n",
    "order_products = pd.read_csv('/datasets/order_products.csv', sep=';')\n",
    "aisles = pd.read_csv('/datasets/aisles.csv', sep=';')\n",
    "departments = pd.read_csv('/datasets/order_products.csv',sep=';')"
   ]
  },
  {
   "cell_type": "code",
   "execution_count": 3,
   "id": "ad6a1efa",
   "metadata": {
    "id": "ad6a1efa"
   },
   "outputs": [
    {
     "name": "stdout",
     "output_type": "stream",
     "text": [
      "<class 'pandas.core.frame.DataFrame'>\n",
      "RangeIndex: 478967 entries, 0 to 478966\n",
      "Data columns (total 6 columns):\n",
      " #   Column                  Non-Null Count   Dtype  \n",
      "---  ------                  --------------   -----  \n",
      " 0   order_id                478967 non-null  int64  \n",
      " 1   user_id                 478967 non-null  int64  \n",
      " 2   order_number            478967 non-null  int64  \n",
      " 3   order_dow               478967 non-null  int64  \n",
      " 4   order_hour_of_day       478967 non-null  int64  \n",
      " 5   days_since_prior_order  450148 non-null  float64\n",
      "dtypes: float64(1), int64(5)\n",
      "memory usage: 21.9 MB\n",
      "None\n"
     ]
    }
   ],
   "source": [
    "print(instacart_orders.info())"
   ]
  },
  {
   "cell_type": "code",
   "execution_count": 4,
   "id": "5130e05e",
   "metadata": {
    "id": "5130e05e"
   },
   "outputs": [
    {
     "name": "stdout",
     "output_type": "stream",
     "text": [
      "<class 'pandas.core.frame.DataFrame'>\n",
      "RangeIndex: 49694 entries, 0 to 49693\n",
      "Data columns (total 4 columns):\n",
      " #   Column         Non-Null Count  Dtype \n",
      "---  ------         --------------  ----- \n",
      " 0   product_id     49694 non-null  int64 \n",
      " 1   product_name   48436 non-null  object\n",
      " 2   aisle_id       49694 non-null  int64 \n",
      " 3   department_id  49694 non-null  int64 \n",
      "dtypes: int64(3), object(1)\n",
      "memory usage: 1.5+ MB\n",
      "None\n"
     ]
    }
   ],
   "source": [
    "print(products.info())"
   ]
  },
  {
   "cell_type": "code",
   "execution_count": 5,
   "id": "d8370c05",
   "metadata": {
    "id": "d8370c05"
   },
   "outputs": [
    {
     "name": "stdout",
     "output_type": "stream",
     "text": [
      "<class 'pandas.core.frame.DataFrame'>\n",
      "RangeIndex: 4545007 entries, 0 to 4545006\n",
      "Data columns (total 4 columns):\n",
      " #   Column             Dtype  \n",
      "---  ------             -----  \n",
      " 0   order_id           int64  \n",
      " 1   product_id         int64  \n",
      " 2   add_to_cart_order  float64\n",
      " 3   reordered          int64  \n",
      "dtypes: float64(1), int64(3)\n",
      "memory usage: 138.7 MB\n",
      "None\n"
     ]
    }
   ],
   "source": [
    "print(order_products.info())"
   ]
  },
  {
   "cell_type": "code",
   "execution_count": 6,
   "id": "59e2090f",
   "metadata": {
    "id": "59e2090f"
   },
   "outputs": [
    {
     "name": "stdout",
     "output_type": "stream",
     "text": [
      "<class 'pandas.core.frame.DataFrame'>\n",
      "RangeIndex: 134 entries, 0 to 133\n",
      "Data columns (total 2 columns):\n",
      " #   Column    Non-Null Count  Dtype \n",
      "---  ------    --------------  ----- \n",
      " 0   aisle_id  134 non-null    int64 \n",
      " 1   aisle     134 non-null    object\n",
      "dtypes: int64(1), object(1)\n",
      "memory usage: 2.2+ KB\n",
      "None\n"
     ]
    }
   ],
   "source": [
    "print(aisles.info())"
   ]
  },
  {
   "cell_type": "code",
   "execution_count": 7,
   "id": "6fc81694",
   "metadata": {
    "id": "6fc81694"
   },
   "outputs": [
    {
     "name": "stdout",
     "output_type": "stream",
     "text": [
      "<class 'pandas.core.frame.DataFrame'>\n",
      "RangeIndex: 4545007 entries, 0 to 4545006\n",
      "Data columns (total 4 columns):\n",
      " #   Column             Dtype  \n",
      "---  ------             -----  \n",
      " 0   order_id           int64  \n",
      " 1   product_id         int64  \n",
      " 2   add_to_cart_order  float64\n",
      " 3   reordered          int64  \n",
      "dtypes: float64(1), int64(3)\n",
      "memory usage: 138.7 MB\n",
      "None\n"
     ]
    }
   ],
   "source": [
    "print(departments.info())"
   ]
  },
  {
   "cell_type": "markdown",
   "id": "t75BD19oaR5f",
   "metadata": {
    "id": "t75BD19oaR5f"
   },
   "source": [
    "## Conclusões\n",
    "\n",
    "Ambas os datas tem valores ausentes e possives dados dublicados."
   ]
  },
  {
   "cell_type": "markdown",
   "id": "8RJHqxVmaVsF",
   "metadata": {
    "id": "8RJHqxVmaVsF"
   },
   "source": [
    "# Etapa 2. Preparação de dados\n",
    "\n",
    "Faça o pré-processamento dos dados da seguinte maneira:\n",
    "\n",
    "-\tVerifique e corrija os tipos de dados (por exemplo, certifique-se de que as colunas de ID sejam números inteiros)\n",
    "-\tIdentifique e preencha valores ausentes\n",
    "-\tIdentifique e remova valores duplicados\n",
    "\n",
    "Certifique-se de explicar que tipos de valores ausentes e duplicados você encontrou, como você os preencheu ou removeu, por que escolheu esses métodos e por que você acha que esses valores ausentes e duplicados estavam presentes no conjunto de dados."
   ]
  },
  {
   "cell_type": "markdown",
   "id": "p6poABZQaZYb",
   "metadata": {
    "id": "p6poABZQaZYb"
   },
   "source": [
    "## Plano de solução\n",
    "\n",
    "Escreva aqui seu plano para a Etapa 2. Preparação de dados"
   ]
  },
  {
   "cell_type": "markdown",
   "id": "07357848-dc64-4156-9cc3-01ff4365226d",
   "metadata": {
    "id": "07357848-dc64-4156-9cc3-01ff4365226d"
   },
   "source": [
    "## Encontre e remova valores duplicados (e descreva por que você está fazendo suas escolhas)"
   ]
  },
  {
   "cell_type": "markdown",
   "id": "f179f0a9",
   "metadata": {
    "id": "f179f0a9"
   },
   "source": [
    "### DataFrame `orders`"
   ]
  },
  {
   "cell_type": "code",
   "execution_count": 8,
   "id": "b99297a5-405a-463d-8535-9adc3da4ad74",
   "metadata": {
    "id": "b99297a5-405a-463d-8535-9adc3da4ad74"
   },
   "outputs": [
    {
     "name": "stdout",
     "output_type": "stream",
     "text": [
      "Há 30 pedidos duplicados.\n"
     ]
    }
   ],
   "source": [
    "# Verificar se há pedidos duplicados\n",
    "duplicated_orders = instacart_orders.duplicated(subset=['order_id'], keep=False)\n",
    "print(f\"Há {duplicated_orders.sum()} pedidos duplicados.\")"
   ]
  },
  {
   "cell_type": "markdown",
   "id": "PEkwUX_gvt5A",
   "metadata": {
    "id": "PEkwUX_gvt5A"
   },
   "source": [
    "Há linhas duplicadas? Se sim, o que elas têm em comum?"
   ]
  },
  {
   "cell_type": "code",
   "execution_count": 9,
   "id": "0d44de5d",
   "metadata": {
    "id": "0d44de5d"
   },
   "outputs": [
    {
     "name": "stdout",
     "output_type": "stream",
     "text": [
      "Há 121 pedidos feitos às 2h da manhã nas quartas-feiras.\n"
     ]
    }
   ],
   "source": [
    "wednesday_orders = instacart_orders[(instacart_orders['order_dow'] == 3) & (instacart_orders['order_hour_of_day'] == 2)]\n",
    "print(f\"Há {len(wednesday_orders)} pedidos feitos às 2h da manhã nas quartas-feiras.\")\n",
    "\n",
    "# Com base nas suas conclusões,\n",
    "\n",
    "# verifique todos os pedidos feitos às 2h da manhã nas quartas-feiras"
   ]
  },
  {
   "cell_type": "markdown",
   "id": "vu2OWyoqwOx5",
   "metadata": {
    "id": "vu2OWyoqwOx5"
   },
   "source": [
    "O que esse resultado quer dizer?"
   ]
  },
  {
   "cell_type": "code",
   "execution_count": 10,
   "id": "480563c7",
   "metadata": {
    "id": "480563c7"
   },
   "outputs": [
    {
     "name": "stdout",
     "output_type": "stream",
     "text": [
      "        order_id  user_id  order_number  order_dow  order_hour_of_day  \\\n",
      "0        1515936   183418            11          6                 13   \n",
      "1        1690866   163593             5          5                 12   \n",
      "2        1454967    39980             4          5                 19   \n",
      "3        1768857    82516            56          0                 20   \n",
      "4        3007858   196724             2          4                 12   \n",
      "...          ...      ...           ...        ...                ...   \n",
      "478962   3210681     5617             5          1                 14   \n",
      "478963   3270802   112087             2          3                 13   \n",
      "478964    885349    82944            16          2                 11   \n",
      "478965    216274     4391             3          3                  8   \n",
      "478966   2071924     1730            18          1                 14   \n",
      "\n",
      "        days_since_prior_order  \n",
      "0                         30.0  \n",
      "1                          9.0  \n",
      "2                          2.0  \n",
      "3                         10.0  \n",
      "4                         17.0  \n",
      "...                        ...  \n",
      "478962                     7.0  \n",
      "478963                     6.0  \n",
      "478964                     6.0  \n",
      "478965                     8.0  \n",
      "478966                    15.0  \n",
      "\n",
      "[478952 rows x 6 columns]\n"
     ]
    }
   ],
   "source": [
    "instacart_orders = instacart_orders.drop_duplicates()\n",
    "print(instacart_orders)\n",
    "# Remova pedidos duplicados"
   ]
  },
  {
   "cell_type": "code",
   "execution_count": 11,
   "id": "0b2396a2",
   "metadata": {
    "id": "0b2396a2"
   },
   "outputs": [
    {
     "name": "stdout",
     "output_type": "stream",
     "text": [
      "O total de duplicados atualizados é 0.\n"
     ]
    }
   ],
   "source": [
    "duplicates = instacart_orders.duplicated()\n",
    "\n",
    "print(f\"O total de duplicados atualizados é {duplicates.sum()}.\")\n",
    "# Verifique as linhas duplicadas mais uma vez"
   ]
  },
  {
   "cell_type": "code",
   "execution_count": 12,
   "id": "f6113ef1",
   "metadata": {
    "id": "f6113ef1"
   },
   "outputs": [
    {
     "name": "stdout",
     "output_type": "stream",
     "text": [
      "O total de ID de pedidos: 0.\n"
     ]
    }
   ],
   "source": [
    "duplicates = instacart_orders['order_id'].duplicated()\n",
    "\n",
    "print(f\"O total de ID de pedidos: {duplicates.sum()}.\")\n",
    "# Verifique novamente apenas os IDs de pedidos duplicados"
   ]
  },
  {
   "cell_type": "markdown",
   "id": "5e8905ae",
   "metadata": {
    "id": "5e8905ae"
   },
   "source": [
    "Descreva brevemente suas conclusões e o que você fez com elas."
   ]
  },
  {
   "cell_type": "markdown",
   "id": "45e6bc46",
   "metadata": {
    "id": "45e6bc46"
   },
   "source": [
    "### DataFrame `products`"
   ]
  },
  {
   "cell_type": "code",
   "execution_count": 13,
   "id": "5f526b5b-8175-46fa-a0fd-441767d50e64",
   "metadata": {
    "id": "5f526b5b-8175-46fa-a0fd-441767d50e64"
   },
   "outputs": [
    {
     "name": "stdout",
     "output_type": "stream",
     "text": [
      "0\n"
     ]
    }
   ],
   "source": [
    "du_products = products.duplicated().sum()\n",
    "print(du_products)"
   ]
  },
  {
   "cell_type": "code",
   "execution_count": 14,
   "id": "88daa4f4",
   "metadata": {
    "id": "88daa4f4"
   },
   "outputs": [
    {
     "name": "stdout",
     "output_type": "stream",
     "text": [
      "O total de ID de pedidos: 0.\n"
     ]
    }
   ],
   "source": [
    "duplicates = products['product_id'].duplicated()\n",
    "\n",
    "print(f\"O total de ID de pedidos: {duplicates.sum()}.\")\n",
    "\n",
    "# Verifique apenas se há IDs de departamentos duplicados"
   ]
  },
  {
   "cell_type": "code",
   "execution_count": 15,
   "id": "c773f0bf",
   "metadata": {
    "id": "c773f0bf"
   },
   "outputs": [
    {
     "name": "stdout",
     "output_type": "stream",
     "text": [
      "Total de nomes de produtos duplicados: 1361.\n"
     ]
    }
   ],
   "source": [
    "\n",
    "products['product_name'] = products['product_name'].str.lower()\n",
    "\n",
    "print(f\"Total de nomes de produtos duplicados: {products['product_name'].duplicated().sum()}.\")\n",
    "# Verifique apenas se há nomes de produtos duplicados (converta os nomes para minúsculas para uma comparação melhor)\n"
   ]
  },
  {
   "cell_type": "code",
   "execution_count": 16,
   "id": "01efd02e",
   "metadata": {
    "id": "01efd02e"
   },
   "outputs": [
    {
     "name": "stdout",
     "output_type": "stream",
     "text": [
      "       product_id                                       product_name  \\\n",
      "0               1                         chocolate sandwich cookies   \n",
      "1               2                                   all-seasons salt   \n",
      "2               3               robust golden unsweetened oolong tea   \n",
      "3               4  smart ones classic favorites mini rigatoni wit...   \n",
      "4               5                          green chile anytime sauce   \n",
      "...           ...                                                ...   \n",
      "49689       49690                      high performance energy drink   \n",
      "49690       49691                      original pancake & waffle mix   \n",
      "49691       49692    organic instant oatmeal light maple brown sugar   \n",
      "49692       49693                             spring water body wash   \n",
      "49693       49694                            burrito- steak & cheese   \n",
      "\n",
      "       aisle_id  department_id  \n",
      "0            61             19  \n",
      "1           104             13  \n",
      "2            94              7  \n",
      "3            38              1  \n",
      "4             5             13  \n",
      "...         ...            ...  \n",
      "49689        64              7  \n",
      "49690       130             14  \n",
      "49691       130             14  \n",
      "49692       127             11  \n",
      "49693        38              1  \n",
      "\n",
      "[48436 rows x 4 columns]\n"
     ]
    }
   ],
   "source": [
    "print(products.dropna(subset=['product_name']))\n",
    "# Verifique os nomes de produtos duplicados que não estão faltando"
   ]
  },
  {
   "cell_type": "markdown",
   "id": "9da8d293",
   "metadata": {
    "id": "9da8d293"
   },
   "source": [
    "Descreva brevemente suas conclusões e o que você fez com elas."
   ]
  },
  {
   "cell_type": "markdown",
   "id": "60f30db1",
   "metadata": {
    "id": "60f30db1"
   },
   "source": [
    "### DataFrame `departments`"
   ]
  },
  {
   "cell_type": "code",
   "execution_count": 17,
   "id": "fb410ad4-0fbf-4b80-bb09-23fdea79afe3",
   "metadata": {
    "id": "fb410ad4-0fbf-4b80-bb09-23fdea79afe3"
   },
   "outputs": [
    {
     "name": "stdout",
     "output_type": "stream",
     "text": [
      "linhas completamente duplicadas: 0.\n"
     ]
    }
   ],
   "source": [
    "print(f\"linhas completamente duplicadas: {departments.duplicated().sum()}.\")\n",
    "# Verifique se há linhas completamente duplicadas"
   ]
  },
  {
   "cell_type": "code",
   "execution_count": 18,
   "id": "332b12bb",
   "metadata": {
    "id": "332b12bb"
   },
   "outputs": [
    {
     "name": "stdout",
     "output_type": "stream",
     "text": [
      "Número de IDs de produtos duplicados: 4499434\n"
     ]
    }
   ],
   "source": [
    "duplicated_ids = departments['product_id'].duplicated()\n",
    "print('Número de IDs de produtos duplicados:', duplicated_ids.sum())\n",
    "\n",
    "# Verifique apenas se há IDs dos produtos duplicados"
   ]
  },
  {
   "cell_type": "markdown",
   "id": "bd30d78e",
   "metadata": {
    "id": "bd30d78e"
   },
   "source": [
    "Descreva brevemente suas conclusões e o que você fez com elas."
   ]
  },
  {
   "cell_type": "markdown",
   "id": "889349c1",
   "metadata": {
    "id": "889349c1"
   },
   "source": [
    "### DataFrame `aisles`"
   ]
  },
  {
   "cell_type": "code",
   "execution_count": 19,
   "id": "9da89fb9-4679-40f5-ad0d-c34df753a3f8",
   "metadata": {
    "id": "9da89fb9-4679-40f5-ad0d-c34df753a3f8"
   },
   "outputs": [
    {
     "name": "stdout",
     "output_type": "stream",
     "text": [
      "linhas completamente duplicadas: 0.\n"
     ]
    }
   ],
   "source": [
    "print(f\"linhas completamente duplicadas: {aisles.duplicated().sum()}.\")\n",
    "# Verifique se há linhas completamente duplicadas"
   ]
  },
  {
   "cell_type": "code",
   "execution_count": 20,
   "id": "da7c2822",
   "metadata": {
    "id": "da7c2822"
   },
   "outputs": [
    {
     "name": "stdout",
     "output_type": "stream",
     "text": [
      "Há IDs de produtos duplicados: 0\n"
     ]
    }
   ],
   "source": [
    "duplicates = aisles['aisle_id'].duplicated()\n",
    "print('Há IDs de produtos duplicados:',duplicates.sum())\n",
    "\n",
    "# Verifique apenas se há IDs dos produtos duplicados"
   ]
  },
  {
   "cell_type": "markdown",
   "id": "ac63826f",
   "metadata": {
    "id": "ac63826f"
   },
   "source": [
    "Descreva brevemente suas conclusões e o que você fez com elas."
   ]
  },
  {
   "cell_type": "markdown",
   "id": "274cd06a",
   "metadata": {
    "id": "274cd06a"
   },
   "source": [
    "### DataFrame `order_products`"
   ]
  },
  {
   "cell_type": "code",
   "execution_count": 21,
   "id": "52326689-84a8-4b8f-a881-7c68780f62c9",
   "metadata": {
    "id": "52326689-84a8-4b8f-a881-7c68780f62c9"
   },
   "outputs": [
    {
     "name": "stdout",
     "output_type": "stream",
     "text": [
      "linhas completamente duplicadas: 0.\n"
     ]
    }
   ],
   "source": [
    "print(f\"linhas completamente duplicadas: {order_products.duplicated().sum()}.\")\n",
    "# Verifique se há linhas completamente duplicadas"
   ]
  },
  {
   "cell_type": "code",
   "execution_count": 22,
   "id": "7b861391",
   "metadata": {
    "id": "7b861391"
   },
   "outputs": [
    {
     "name": "stdout",
     "output_type": "stream",
     "text": [
      "Há IDs de produtos duplicados: 4094961\n"
     ]
    }
   ],
   "source": [
    "duplicates = order_products['order_id'].duplicated()\n",
    "print('Há IDs de produtos duplicados:',duplicates.sum())\n",
    "# Verifique mais uma vez se há outros casos complicados de duplicados"
   ]
  },
  {
   "cell_type": "markdown",
   "id": "0b890492",
   "metadata": {
    "id": "0b890492"
   },
   "source": []
  },
  {
   "cell_type": "markdown",
   "id": "1e46de76",
   "metadata": {
    "id": "1e46de76"
   },
   "source": [
    "## Encontre e remova valores ausentes\n",
    "\n",
    "\n",
    "Ao processarmos valores duplicados, observamos que também temos valores ausentes que precisamos investigar nas seguintes colunas:\n",
    "\n",
    "*\tA coluna `'product_name'` da tabela products.\n",
    "*\tA coluna `'days_since_prior_order'` da tabela orders.\n",
    "*\tA coluna `'add_to_cart_order'` da tabela order_products.\n"
   ]
  },
  {
   "cell_type": "markdown",
   "id": "c0aebd78",
   "metadata": {
    "id": "c0aebd78"
   },
   "source": [
    "### DataFrame `products`"
   ]
  },
  {
   "cell_type": "code",
   "execution_count": 23,
   "id": "fe4a8b0f",
   "metadata": {
    "id": "fe4a8b0f"
   },
   "outputs": [
    {
     "name": "stdout",
     "output_type": "stream",
     "text": [
      "total de valores ausentes na coluna 'product_name': 1258\n"
     ]
    }
   ],
   "source": [
    "print(\"total de valores ausentes na coluna 'product_name':\", products['product_name'].isna().sum())\n"
   ]
  },
  {
   "cell_type": "markdown",
   "id": "-A6x1AbJhjkp",
   "metadata": {
    "id": "-A6x1AbJhjkp"
   },
   "source": [
    "mestodo isna() verica valores ausente som"
   ]
  },
  {
   "cell_type": "code",
   "execution_count": 24,
   "id": "e96167bc",
   "metadata": {
    "id": "e96167bc"
   },
   "outputs": [
    {
     "name": "stdout",
     "output_type": "stream",
     "text": [
      "Essa informação é False.\n"
     ]
    }
   ],
   "source": [
    "product_name = products[products['product_name'].isnull()]\n",
    "all_100 = all(product_name['department_id'] == 100)\n",
    "\n",
    "print(f\"Essa informação é {all_100}.\")\n"
   ]
  },
  {
   "cell_type": "markdown",
   "id": "WRpIfXRphpSL",
   "metadata": {
    "id": "WRpIfXRphpSL"
   },
   "source": [
    "A função all() do Python retorna True se todos os elementos são verdadeiros."
   ]
  },
  {
   "cell_type": "code",
   "execution_count": 25,
   "id": "8fd0a541",
   "metadata": {
    "id": "8fd0a541"
   },
   "outputs": [
    {
     "name": "stdout",
     "output_type": "stream",
     "text": [
      "Essa informação é True.\n"
     ]
    }
   ],
   "source": [
    "product_name = products[products['product_name'].isnull()]\n",
    "all_21 = all(product_name['department_id'] == 21)\n",
    "\n",
    "print(f\"Essa informação é {all_21}.\")\n"
   ]
  },
  {
   "cell_type": "markdown",
   "id": "qDpdYn1Fht_I",
   "metadata": {
    "id": "qDpdYn1Fht_I"
   },
   "source": [
    "A função all() do Python retorna True se todos os elementos são verdadeiros."
   ]
  },
  {
   "cell_type": "code",
   "execution_count": 26,
   "id": "325c3464",
   "metadata": {
    "id": "325c3464"
   },
   "outputs": [
    {
     "name": "stdout",
     "output_type": "stream",
     "text": [
      "       product_id product_name  aisle_id  department_id\n",
      "37             38          NaN       100             21\n",
      "71             72          NaN       100             21\n",
      "109           110          NaN       100             21\n",
      "296           297          NaN       100             21\n",
      "416           417          NaN       100             21\n",
      "...           ...          ...       ...            ...\n",
      "49552       49553          NaN       100             21\n",
      "49574       49575          NaN       100             21\n",
      "49640       49641          NaN       100             21\n",
      "49663       49664          NaN       100             21\n",
      "49668       49669          NaN       100             21\n",
      "\n",
      "[1258 rows x 4 columns]\n"
     ]
    }
   ],
   "source": [
    "uni = products[(products['aisle_id'] == 100) & (products['department_id'] == 21)]\n",
    "print(uni)\n",
    "\n"
   ]
  },
  {
   "cell_type": "markdown",
   "id": "nqhSTUPhhvEJ",
   "metadata": {
    "id": "nqhSTUPhhvEJ"
   },
   "source": [
    "Corrigido!!!!"
   ]
  },
  {
   "cell_type": "code",
   "execution_count": 27,
   "id": "6b295120",
   "metadata": {
    "id": "6b295120"
   },
   "outputs": [
    {
     "name": "stdout",
     "output_type": "stream",
     "text": [
      "37       Unknown\n",
      "71       Unknown\n",
      "109      Unknown\n",
      "296      Unknown\n",
      "416      Unknown\n",
      "          ...   \n",
      "49552    Unknown\n",
      "49574    Unknown\n",
      "49640    Unknown\n",
      "49663    Unknown\n",
      "49668    Unknown\n",
      "Name: product_name, Length: 1258, dtype: object\n"
     ]
    }
   ],
   "source": [
    "print(product_name['product_name'].fillna('Unknown',))\n",
    "\n",
    "# Preencha nomes de produtos ausentes com 'Unknown'"
   ]
  },
  {
   "cell_type": "markdown",
   "id": "fc70e5ad",
   "metadata": {
    "id": "fc70e5ad"
   },
   "source": [
    "Descreva brevemente suas conclusões e o que você fez com elas."
   ]
  },
  {
   "cell_type": "markdown",
   "id": "7eb45c86",
   "metadata": {
    "id": "7eb45c86"
   },
   "source": [
    "### DataFrame `orders`"
   ]
  },
  {
   "cell_type": "code",
   "execution_count": 28,
   "id": "93e41d96",
   "metadata": {
    "id": "93e41d96"
   },
   "outputs": [
    {
     "name": "stdout",
     "output_type": "stream",
     "text": [
      "total de valores ausentes: 28817\n"
     ]
    }
   ],
   "source": [
    "print(\"total de valores ausentes:\", instacart_orders['days_since_prior_order'].isna().sum())\n",
    "# Encontre os valores ausentes"
   ]
  },
  {
   "cell_type": "code",
   "execution_count": 29,
   "id": "166e5a86",
   "metadata": {
    "id": "166e5a86"
   },
   "outputs": [
    {
     "name": "stdout",
     "output_type": "stream",
     "text": [
      "Os valores ausentes são dos clientes que estão fazendo seu primeiro pedido.\n"
     ]
    }
   ],
   "source": [
    "\n",
    "num_m = instacart_orders['days_since_prior_order'].isna().sum()\n",
    "num_f = (instacart_orders['order_number'] == 1).sum()\n",
    "\n",
    "if num_m == num_f:\n",
    "    print(\"Os valores ausentes são dos clientes que estão fazendo seu primeiro pedido.\")\n",
    "else:\n",
    "    print(\"Há valores ausentes para os clientes que não estão fazendo o primeiro pedido.\")\n",
    "\n",
    "\n",
    "# Há valores ausentes para os clientes que não estão fazendo o primeiro pedido?"
   ]
  },
  {
   "cell_type": "markdown",
   "id": "4e23d089",
   "metadata": {
    "id": "4e23d089"
   },
   "source": [
    "Descreva brevemente suas conclusões e o que você fez com elas."
   ]
  },
  {
   "cell_type": "markdown",
   "id": "69dc9ca4",
   "metadata": {
    "id": "69dc9ca4"
   },
   "source": [
    "### DataFrame `order_products`"
   ]
  },
  {
   "cell_type": "code",
   "execution_count": 30,
   "id": "b8240253",
   "metadata": {
    "id": "b8240253"
   },
   "outputs": [
    {
     "name": "stdout",
     "output_type": "stream",
     "text": [
      "total de valores ausentes: 836\n"
     ]
    }
   ],
   "source": [
    "print(\"total de valores ausentes:\", order_products['add_to_cart_order'].isna().sum())\n",
    "# Encontre os valores ausentes"
   ]
  },
  {
   "cell_type": "code",
   "execution_count": 31,
   "id": "9a78e5ee",
   "metadata": {
    "id": "9a78e5ee"
   },
   "outputs": [
    {
     "name": "stdout",
     "output_type": "stream",
     "text": [
      "Maximo:64.0 \n",
      "Minimo:1.0\n"
     ]
    }
   ],
   "source": [
    "mins = order_products['add_to_cart_order'].min()\n",
    "maxs = order_products['add_to_cart_order'].max()\n",
    "\n",
    "print(f\"Maximo:{maxs} \\nMinimo:{mins}\")\n",
    "# Quais são os valores mínimo e máximo dessa coluna?"
   ]
  },
  {
   "cell_type": "markdown",
   "id": "-Z2Ja215jW78",
   "metadata": {
    "id": "-Z2Ja215jW78"
   },
   "source": [
    "Descreva brevemente suas conclusões."
   ]
  },
  {
   "cell_type": "code",
   "execution_count": 32,
   "id": "ab9d0c2b",
   "metadata": {
    "id": "ab9d0c2b"
   },
   "outputs": [
    {
     "name": "stdout",
     "output_type": "stream",
     "text": [
      "[2449164 1968313 2926893 1717990 1959075  844733   61355  936852  264710\n",
      " 1564093  129627  293169 2849370 1386261 3308010  903110 2136777 3347453\n",
      " 1888628  165801 2094761 1038146 2997021  813364 2256933  171934 2409109\n",
      " 1730767 1169835  733526  404157 3125735  747668 1800005 1961723  871281\n",
      "  388234 1648217 1477139  102236 1021563 1832957 2721963  678116 1220886\n",
      " 1673227 2999801 1633337 2470674 2625444 1677118 2479011 3383594 1183255\n",
      " 1713430 2652650 1598369 1916118  854647 1302315  888470  180546 2621907\n",
      " 1308785 2729254    9310 2170451 2979697 1625713 1529171]\n"
     ]
    }
   ],
   "source": [
    "values = order_products['add_to_cart_order'].isna()\n",
    "values = order_products[values]\n",
    "o_values = values['order_id'].unique()\n",
    "\n",
    "print(o_values)\n",
    "\n",
    "# Salve todos os IDs dos pedidos com pelo menos um valor ausente em 'add_to_cart_order'"
   ]
  },
  {
   "cell_type": "code",
   "execution_count": 33,
   "id": "54c31695",
   "metadata": {
    "id": "54c31695"
   },
   "outputs": [
    {
     "name": "stdout",
     "output_type": "stream",
     "text": [
      "É False\n"
     ]
    }
   ],
   "source": [
    "df_na = order_products[order_products.isna().any(axis=1)]\n",
    "order_counts = df_na.groupby('order_id')['product_id'].count()\n",
    "all_64 = order_counts.min() > 64\n",
    "\n",
    "print('É',all_64)\n",
    "# Todos os pedidos com valores ausentes contêm mais de 64 produtos?\n",
    "# Agrupe os pedidos com dados ausentes por ID de pedido\n",
    "# Conte o número de 'product_id' em cada pedido e verifique o valor mínimo da contagem\n"
   ]
  },
  {
   "cell_type": "markdown",
   "id": "p9V6pddtjglj",
   "metadata": {
    "id": "p9V6pddtjglj"
   },
   "source": [
    "Tive que usar a função any() para excutar "
   ]
  },
  {
   "cell_type": "code",
   "execution_count": 34,
   "id": "7a987d08",
   "metadata": {
    "id": "7a987d08"
   },
   "outputs": [
    {
     "name": "stdout",
     "output_type": "stream",
     "text": [
      "0          17\n",
      "1           1\n",
      "2           1\n",
      "3          35\n",
      "4           5\n",
      "           ..\n",
      "4545002    12\n",
      "4545003     9\n",
      "4545004     4\n",
      "4545005     8\n",
      "4545006     9\n",
      "Name: add_to_cart_order, Length: 4545007, dtype: int64\n"
     ]
    }
   ],
   "source": [
    "order_products['add_to_cart_order'].fillna('999', inplace=True)\n",
    "order_products['add_to_cart_order'] = order_products['add_to_cart_order'].astype(int)\n",
    "\n",
    "print(order_products['add_to_cart_order'])\n",
    "# Substitua valores ausentes na coluna 'add_to_cart_order' por 999 e converta a coluna para o tipo integer"
   ]
  },
  {
   "cell_type": "markdown",
   "id": "fea4bcc7",
   "metadata": {
    "id": "fea4bcc7"
   },
   "source": []
  },
  {
   "cell_type": "markdown",
   "id": "RnplPFY1gSrb",
   "metadata": {
    "id": "RnplPFY1gSrb"
   },
   "source": [
    "## Conclusões\n",
    "\n",
    "Escreva aqui suas conclusões intermediárias da Etapa 2. Preparação de dados"
   ]
  },
  {
   "cell_type": "markdown",
   "id": "UjrOIwTcz3ri",
   "metadata": {
    "id": "UjrOIwTcz3ri"
   },
   "source": [
    "# Etapa 3. Análise de dados\n",
    "\n",
    "Quando os dados estiverem processados ​​e prontos, execute a seguinte análise:"
   ]
  },
  {
   "cell_type": "markdown",
   "id": "turkish-kidney",
   "metadata": {
    "id": "turkish-kidney"
   },
   "source": [
    "# [A] Fácil (é necessário concluir tudo para passar)\n",
    "\n",
    "1.\tVerifique se os valores nas colunas `'order_hour_of_day'` e `'order_dow'` na tabela `orders` fazem sentido (ou seja, os valores da coluna  `'order_hour_of_day'` variam de 0 a 23 e os da `'order_dow'` variam de 0 a 6).\n",
    "2.\tCrie um gráfico que mostre quantas pessoas fazem pedidos por cada hora do dia.\n",
    "3.\tCrie um gráfico que mostre em que dia da semana as pessoas fazem compras.\n",
    "4.\tCrie um gráfico que mostre quanto tempo as pessoas esperam até fazer seu próximo pedido e comente sobre os valores mínimo e máximo.\n"
   ]
  },
  {
   "cell_type": "markdown",
   "id": "short-capability",
   "metadata": {
    "id": "short-capability"
   },
   "source": [
    "### [A1] Verifique se os valores fazem sentido"
   ]
  },
  {
   "cell_type": "code",
   "execution_count": 35,
   "id": "growing-fruit",
   "metadata": {
    "id": "growing-fruit"
   },
   "outputs": [
    {
     "name": "stdout",
     "output_type": "stream",
     "text": [
      "count    478952.000000\n",
      "mean         13.447034\n",
      "std           4.224567\n",
      "min           0.000000\n",
      "25%          10.000000\n",
      "50%          13.000000\n",
      "75%          16.000000\n",
      "max          23.000000\n",
      "Name: order_hour_of_day, dtype: float64\n"
     ]
    }
   ],
   "source": [
    "print(instacart_orders['order_hour_of_day'].describe())"
   ]
  },
  {
   "cell_type": "code",
   "execution_count": 36,
   "id": "accessory-malaysia",
   "metadata": {
    "id": "accessory-malaysia"
   },
   "outputs": [
    {
     "name": "stdout",
     "output_type": "stream",
     "text": [
      "count    478952.000000\n",
      "mean          2.775051\n",
      "std           2.045901\n",
      "min           0.000000\n",
      "25%           1.000000\n",
      "50%           3.000000\n",
      "75%           5.000000\n",
      "max           6.000000\n",
      "Name: order_dow, dtype: float64\n"
     ]
    }
   ],
   "source": [
    "print(instacart_orders['order_dow'].describe())"
   ]
  },
  {
   "cell_type": "markdown",
   "id": "hmR2GNQ6lCsX",
   "metadata": {
    "id": "hmR2GNQ6lCsX"
   },
   "source": [
    "Escreva suas conclusões aqui"
   ]
  },
  {
   "cell_type": "markdown",
   "id": "a6743a70",
   "metadata": {
    "id": "a6743a70"
   },
   "source": [
    "### [A2] Quantas pessoas fazem pedidos a cada hora do dia?"
   ]
  },
  {
   "cell_type": "code",
   "execution_count": 37,
   "id": "a36cca27",
   "metadata": {
    "id": "a36cca27"
   },
   "outputs": [
    {
     "data": {
      "image/png": "[encoded data removed]",
      "text/plain": [
       "<Figure size 720x432 with 1 Axes>"
      ]
     },
     "metadata": {
      "needs_background": "light"
     },
     "output_type": "display_data"
    }
   ],
   "source": [
    "import matplotlib.pyplot as plt\n",
    "\n",
    "\n",
    "plt.figure(figsize=(10,6))\n",
    "instacart_orders['order_hour_of_day'].value_counts().sort_index().plot(kind='bar')\n",
    "plt.xlabel('Hora do dia')\n",
    "plt.ylabel('Número de pedidos')\n",
    "plt.title('Número de pedidos por hora do dia')\n",
    "plt.show()\n"
   ]
  },
  {
   "cell_type": "markdown",
   "id": "11270eed",
   "metadata": {
    "id": "11270eed"
   },
   "source": [
    "Escreva suas conclusões aqui"
   ]
  },
  {
   "cell_type": "markdown",
   "id": "documented-command",
   "metadata": {
    "id": "documented-command"
   },
   "source": [
    "### [A3] Em que dia da semana as pessoas fazem compras?"
   ]
  },
  {
   "cell_type": "code",
   "execution_count": 38,
   "id": "chief-digit",
   "metadata": {
    "id": "chief-digit"
   },
   "outputs": [
    {
     "data": {
      "image/png": "[encoded data removed]",
      "text/plain": [
       "<Figure size 720x432 with 1 Axes>"
      ]
     },
     "metadata": {
      "needs_background": "light"
     },
     "output_type": "display_data"
    }
   ],
   "source": [
    "plt.figure(figsize=(10,6))\n",
    "instacart_orders['order_dow'].value_counts().sort_index().plot(kind='bar')\n",
    "plt.xlabel('Dia da semana')\n",
    "plt.ylabel('Número de pedidos')\n",
    "plt.title('Número de pedidos por dia da semana')\n",
    "plt.show()\n"
   ]
  },
  {
   "cell_type": "markdown",
   "id": "dominant-lightning",
   "metadata": {
    "id": "dominant-lightning"
   },
   "source": [
    "Escreva suas conclusões aqui"
   ]
  },
  {
   "cell_type": "markdown",
   "id": "cutting-concert",
   "metadata": {
    "id": "cutting-concert"
   },
   "source": [
    "### [A4] Quanto tempo as pessoas esperam até fazer outro pedido?"
   ]
  },
  {
   "cell_type": "markdown",
   "id": "discrete-vertex",
   "metadata": {
    "id": "discrete-vertex"
   },
   "source": [
    "Escreva suas conclusões aqui"
   ]
  },
  {
   "cell_type": "code",
   "execution_count": 39,
   "id": "gMOIimGd5VNb",
   "metadata": {
    "id": "gMOIimGd5VNb"
   },
   "outputs": [
    {
     "data": {
      "image/png": "[encoded data removed]",
      "text/plain": [
       "<Figure size 720x432 with 1 Axes>"
      ]
     },
     "metadata": {
      "needs_background": "light"
     },
     "output_type": "display_data"
    }
   ],
   "source": [
    "plt.figure(figsize=(10,6))\n",
    "instacart_orders['days_since_prior_order'].plot(kind='hist', rwidth=0.8)\n",
    "plt.xlabel('Dias até o próximo pedido')\n",
    "plt.ylabel('Frequência')\n",
    "plt.title('Distribuição do tempo até o próximo pedido')\n",
    "plt.show()"
   ]
  },
  {
   "cell_type": "markdown",
   "id": "tight-staff",
   "metadata": {
    "id": "tight-staff"
   },
   "source": [
    "# [B] Médio (é necessário concluir tudo para passar)\n",
    "\n",
    "1.\tHá alguma diferença nas distribuições de `'order_hour_of_day'` nas quartas e sábados? Construa gráficos de barras para ambos os dias no mesmo gráfico e descreva as diferenças que você notou.\n",
    "2.\tConstrua um gráfico de distribuição para o número de pedidos que os clientes fazem (ou seja, quantos clientes fizeram apenas 1 pedido, quantos fizeram apenas 2, quantos apenas 3, etc.)\n",
    "3.\tQuais são os 20 produtos comprados com mais frequência? Exiba os IDs e nomes.\n"
   ]
  },
  {
   "cell_type": "markdown",
   "id": "packed-classic",
   "metadata": {
    "id": "packed-classic"
   },
   "source": [
    "### [B1] Diferenças nas quartas e sábados em `'order_hour_of_day'`. Crie gráficos de barras para ambos os dias e descreva as diferenças."
   ]
  },
  {
   "cell_type": "code",
   "execution_count": 40,
   "id": "d89b8403",
   "metadata": {
    "id": "d89b8403"
   },
   "outputs": [],
   "source": [
    "w_orders = instacart_orders[instacart_orders['order_dow'] == 2]['order_hour_of_day']"
   ]
  },
  {
   "cell_type": "code",
   "execution_count": 41,
   "id": "94e54e8a",
   "metadata": {
    "id": "94e54e8a"
   },
   "outputs": [],
   "source": [
    "s_orders = instacart_orders[instacart_orders['order_dow'] == 5]['order_hour_of_day']"
   ]
  },
  {
   "cell_type": "code",
   "execution_count": 42,
   "id": "797c90a8",
   "metadata": {
    "id": "797c90a8"
   },
   "outputs": [
    {
     "data": {
      "image/png": "[encoded data removed]",
      "text/plain": [
       "<Figure size 720x432 with 1 Axes>"
      ]
     },
     "metadata": {
      "needs_background": "light"
     },
     "output_type": "display_data"
    }
   ],
   "source": [
    "plt.figure(figsize=(10,6))\n",
    "plt.hist([w_orders, s_orders], bins=24, label=['Quarta', 'Sábado'])\n",
    "plt.xlabel('Hora do dia')\n",
    "plt.ylabel('Número de pedidos')\n",
    "plt.title('Número de pedidos por hora do dia nas quartas e sábados')\n",
    "plt.legend(loc='upper right')\n",
    "plt.show()"
   ]
  },
  {
   "cell_type": "code",
   "execution_count": null,
   "id": "35bcea30",
   "metadata": {
    "id": "35bcea30"
   },
   "outputs": [],
   "source": []
  },
  {
   "cell_type": "markdown",
   "id": "charitable-congo",
   "metadata": {
    "id": "charitable-congo"
   },
   "source": [
    "Dias de quarta-feira proximo das 10hrs tem o maior numero de pedido."
   ]
  },
  {
   "cell_type": "markdown",
   "id": "e3891143",
   "metadata": {
    "id": "e3891143"
   },
   "source": [
    "### [B2] Qual é a distribuição do número de pedidos por cliente?"
   ]
  },
  {
   "cell_type": "code",
   "execution_count": 43,
   "id": "d8c26c23",
   "metadata": {
    "id": "d8c26c23"
   },
   "outputs": [],
   "source": [
    "import matplotlib.pyplot as plt\n",
    "\n",
    "counts = instacart_orders['user_id'].value_counts()"
   ]
  },
  {
   "cell_type": "code",
   "execution_count": 44,
   "id": "00e69a66",
   "metadata": {
    "id": "00e69a66"
   },
   "outputs": [
    {
     "data": {
      "image/png": "[encoded data removed]",
      "text/plain": [
       "<Figure size 720x432 with 1 Axes>"
      ]
     },
     "metadata": {
      "needs_background": "light"
     },
     "output_type": "display_data"
    }
   ],
   "source": [
    "plt.figure(figsize=(10,6))\n",
    "plt.hist(counts, bins=range(1, counts.max()+1), align='left', rwidth=0.8)\n",
    "plt.xlabel('Número de pedidos')\n",
    "plt.ylabel('Número de clientes')\n",
    "plt.title('Distribuição do número de pedidos por cliente')\n",
    "plt.show()"
   ]
  },
  {
   "cell_type": "markdown",
   "id": "d2eff7d5",
   "metadata": {
    "id": "d2eff7d5"
   },
   "source": [
    "Escreva suas conclusões aqui"
   ]
  },
  {
   "cell_type": "markdown",
   "id": "54a0319c",
   "metadata": {
    "id": "54a0319c"
   },
   "source": [
    "### [B3] Quais são os 20 produtos mais populares? Exiba os IDs e nomes."
   ]
  },
  {
   "cell_type": "code",
   "execution_count": 59,
   "id": "exterior-arizona",
   "metadata": {
    "id": "exterior-arizona",
    "scrolled": true
   },
   "outputs": [],
   "source": [
    "product_counts = products['product_id'].value_counts().rename('order_count')"
   ]
  },
  {
   "cell_type": "code",
   "execution_count": 60,
   "id": "universal-facial",
   "metadata": {
    "id": "universal-facial"
   },
   "outputs": [],
   "source": [
    "top_20_products = product_counts.head(20)\n"
   ]
  },
  {
   "cell_type": "code",
   "execution_count": 61,
   "id": "bbcdd20b",
   "metadata": {
    "id": "bbcdd20b"
   },
   "outputs": [
    {
     "name": "stdout",
     "output_type": "stream",
     "text": [
      "       product_id                              product_name  order_count\n",
      "0            2049                            malbec mendoza            1\n",
      "33145       45078                              pomegranatea            1\n",
      "33123          32             nacho cheese white bean chips            1\n",
      "33124       49176            cinnamon roll dough with icing            1\n",
      "33125       24588                                       NaN            1\n",
      "...           ...                                       ...          ...\n",
      "16567       12282       italian lentil soup w/ fresh tomato            1\n",
      "16568       10235      honey bunches of oats roasted cereal            1\n",
      "16569        8188                     wisconsin cheese edam            1\n",
      "16570        6141                     low sodium beef broth            1\n",
      "49693        2047  fudge sticks jumbo peanut butter cookies            1\n",
      "\n",
      "[49694 rows x 3 columns]\n"
     ]
    }
   ],
   "source": [
    "top_20_products = product_counts.reset_index().merge(products, left_on='index', right_on='product_id')[['product_id', 'product_name', 'order_count']]\n",
    "\n",
    "top_20_products = top_20_products.sort_values(by='order_count', ascending=False)\n",
    "\n",
    "print(top_20_products)"
   ]
  },
  {
   "cell_type": "markdown",
   "id": "7df00f47",
   "metadata": {
    "id": "7df00f47"
   },
   "source": [
    "Corrigido!!"
   ]
  },
  {
   "cell_type": "code",
   "execution_count": 63,
   "id": "68434f45",
   "metadata": {},
   "outputs": [
    {
     "data": {
      "text/plain": [
       "product_id  product_name            \n",
       "24852       banana                      66050\n",
       "13176       bag of organic bananas      53297\n",
       "21137       organic strawberries        37039\n",
       "21903       organic baby spinach        33971\n",
       "47209       organic hass avocado        29773\n",
       "47766       organic avocado             24689\n",
       "47626       large lemon                 21495\n",
       "16797       strawberries                20018\n",
       "26209       limes                       19690\n",
       "27845       organic whole milk          19600\n",
       "27966       organic raspberries         19197\n",
       "22935       organic yellow onion        15898\n",
       "24964       organic garlic              15292\n",
       "45007       organic zucchini            14584\n",
       "39275       organic blueberries         13879\n",
       "49683       cucumber kirby              13675\n",
       "28204       organic fuji apple          12544\n",
       "5876        organic lemon               12232\n",
       "8277        apple honeycrisp organic    11993\n",
       "40706       organic grape tomatoes      11781\n",
       "dtype: int64"
      ]
     },
     "execution_count": 63,
     "metadata": {},
     "output_type": "execute_result"
    }
   ],
   "source": [
    "df_merge = order_products.merge(products, on='product_id')\n",
    "top_products = df_merge.groupby(['product_id', 'product_name']).size().sort_values(ascending=False)\n",
    "top_products.head(20)"
   ]
  },
  {
   "cell_type": "markdown",
   "id": "gross-theme",
   "metadata": {
    "id": "gross-theme"
   },
   "source": [
    "# [C] Difícil (é necessário concluir pelo menos duas perguntas para passar)\n",
    "\n",
    "1.\tQuantos itens as pessoas normalmente compram em um pedido? Como fica a distribuição?\n",
    "2.\tQuais são os 20 principais itens incluídos mais frequentemente em pedidos repetidos? Exiba os IDs e nomes.\n",
    "3.\tPara cada produto, qual parcela de seus pedidos são repetidos? Crie uma tabela com colunas de ID e nome do produto e a proporção de pedidos repetidos.\n",
    "4.\tPara cada cliente, qual proporção de todos os seus pedidos são repetidos?\n",
    "5.\tQuais são os 20 principais itens que as pessoas colocam nos carrinhos antes de todos os outros? Exiba o ID do produto, nome e o número de vezes que ele foi o primeiro a ser adicionado a um carrinho.\n"
   ]
  },
  {
   "cell_type": "markdown",
   "id": "romantic-deposit",
   "metadata": {
    "id": "romantic-deposit"
   },
   "source": [
    "### [C1] Quantos itens as pessoas normalmente compram em um pedido? Como fica a distribuição?"
   ]
  },
  {
   "cell_type": "code",
   "execution_count": 48,
   "id": "virtual-punch",
   "metadata": {
    "id": "virtual-punch"
   },
   "outputs": [],
   "source": [
    "order_sizes = order_products.groupby('order_id')['product_id'].count()"
   ]
  },
  {
   "cell_type": "code",
   "execution_count": 49,
   "id": "sensitive-breathing",
   "metadata": {
    "id": "sensitive-breathing"
   },
   "outputs": [],
   "source": [
    "mode_size = order_sizes.mode()[0]"
   ]
  },
  {
   "cell_type": "code",
   "execution_count": 50,
   "id": "completed-frank",
   "metadata": {
    "id": "completed-frank"
   },
   "outputs": [
    {
     "name": "stdout",
     "output_type": "stream",
     "text": [
      "Moda de itens por pedido: 5\n"
     ]
    }
   ],
   "source": [
    "print(f\"Moda de itens por pedido: {mode_size}\")"
   ]
  },
  {
   "cell_type": "markdown",
   "id": "designed-mortality",
   "metadata": {
    "id": "designed-mortality"
   },
   "source": [
    "Escreva suas conclusões aqui"
   ]
  },
  {
   "cell_type": "code",
   "execution_count": 51,
   "id": "12034dd9",
   "metadata": {},
   "outputs": [
    {
     "data": {
      "image/png": "[encoded data removed]",
      "text/plain": [
       "<Figure size 432x288 with 1 Axes>"
      ]
     },
     "metadata": {
      "needs_background": "light"
     },
     "output_type": "display_data"
    }
   ],
   "source": [
    "num_items = order_products.groupby('order_id').count()['product_id']\n",
    "histogram_vals = num_items.value_counts().sort_index()\n",
    "histogram_vals.plot(kind='bar',\n",
    "                title='Items purchased in one order',\n",
    "                xlabel='Number of items',\n",
    "                ylabel='Number of orders'\n",
    "               )\n",
    "plt.show()"
   ]
  },
  {
   "cell_type": "markdown",
   "id": "5e6b5537",
   "metadata": {
    "id": "5e6b5537"
   },
   "source": [
    "### [C2] Quais são os 20 principais itens incluídos mais frequentemente em pedidos repetidos? Exiba os IDs e nomes."
   ]
  },
  {
   "cell_type": "code",
   "execution_count": 52,
   "id": "48dd3658",
   "metadata": {
    "id": "48dd3658"
   },
   "outputs": [
    {
     "name": "stdout",
     "output_type": "stream",
     "text": [
      "Product ID: 24852, Product Name: banana\n",
      "Product ID: 13176, Product Name: bag of organic bananas\n",
      "Product ID: 21137, Product Name: organic strawberries\n",
      "Product ID: 21903, Product Name: organic baby spinach\n",
      "Product ID: 47209, Product Name: organic hass avocado\n",
      "Product ID: 47766, Product Name: organic avocado\n",
      "Product ID: 27845, Product Name: organic whole milk\n",
      "Product ID: 47626, Product Name: large lemon\n",
      "Product ID: 27966, Product Name: organic raspberries\n",
      "Product ID: 16797, Product Name: strawberries\n",
      "Product ID: 26209, Product Name: limes\n",
      "Product ID: 22935, Product Name: organic yellow onion\n",
      "Product ID: 24964, Product Name: organic garlic\n",
      "Product ID: 45007, Product Name: organic zucchini\n",
      "Product ID: 49683, Product Name: cucumber kirby\n",
      "Product ID: 28204, Product Name: organic fuji apple\n",
      "Product ID: 8277, Product Name: apple honeycrisp organic\n",
      "Product ID: 39275, Product Name: organic blueberries\n",
      "Product ID: 5876, Product Name: organic lemon\n",
      "Product ID: 49235, Product Name: organic half & half\n"
     ]
    }
   ],
   "source": [
    "# Filtrar para apenas produtos em pedidos repetidos\n",
    "reordered_products = order_products[order_products['reordered'] == 1]\n",
    "\n",
    "# Obter os 20 principais produtos\n",
    "top_20_reordered_items = reordered_products['product_id'].value_counts().head(20)\n",
    "\n",
    "# Obter os nomes dos produtos\n",
    "for product_id in top_20_reordered_items.index:\n",
    "    product_name = products[products['product_id'] == product_id]['product_name'].values[0]\n",
    "    print(f'Product ID: {product_id}, Product Name: {product_name}')\n"
   ]
  },
  {
   "cell_type": "markdown",
   "id": "80e70c74",
   "metadata": {
    "id": "80e70c74"
   },
   "source": [
    "Escreva suas conclusões aqui"
   ]
  },
  {
   "cell_type": "markdown",
   "id": "9d312b14",
   "metadata": {
    "id": "9d312b14"
   },
   "source": [
    "### [C3] Para cada produto, qual parcela de todos os pedidos dele são repetidos?"
   ]
  },
  {
   "cell_type": "code",
   "execution_count": 53,
   "id": "social-individual",
   "metadata": {
    "id": "social-individual"
   },
   "outputs": [
    {
     "name": "stdout",
     "output_type": "stream",
     "text": [
      "       product_id  reorder_ratio\n",
      "0               1       0.564286\n",
      "1               2       0.000000\n",
      "2               3       0.738095\n",
      "3               4       0.510204\n",
      "4               7       0.500000\n",
      "...           ...            ...\n",
      "45568       49690       0.800000\n",
      "45569       49691       0.430556\n",
      "45570       49692       0.416667\n",
      "45571       49693       0.440000\n",
      "45572       49694       0.333333\n",
      "\n",
      "[45573 rows x 2 columns]\n"
     ]
    }
   ],
   "source": [
    "\n",
    "reorder_ratio = order_products.groupby('product_id')['reordered'].mean()\n",
    "\n",
    "\n",
    "reorder_ratio = reorder_ratio.reset_index()\n",
    "\n",
    "\n",
    "reorder_ratio.columns = ['product_id', 'reorder_ratio']\n",
    "\n",
    "\n",
    "product_reorder_ratio = pd.merge(reorder_ratio, products[['product_id', 'product_name']], on='product_id')\n",
    "\n",
    "\n",
    "\n",
    "print(reorder_ratio)"
   ]
  },
  {
   "cell_type": "markdown",
   "id": "I10dEIAyldcO",
   "metadata": {
    "id": "I10dEIAyldcO"
   },
   "source": [
    "Escreva suas conclusões aqui"
   ]
  },
  {
   "cell_type": "markdown",
   "id": "subject-boxing",
   "metadata": {
    "id": "subject-boxing"
   },
   "source": [
    "### [C4] Para cada cliente, qual proporção de todos os seus pedidos são repetidos?"
   ]
  },
  {
   "cell_type": "code",
   "execution_count": 54,
   "id": "8892e4b4",
   "metadata": {
    "id": "8892e4b4"
   },
   "outputs": [
    {
     "name": "stdout",
     "output_type": "stream",
     "text": [
      "            id  reorder_ratio\n",
      "0            2       0.038462\n",
      "1            4       0.000000\n",
      "2            5       0.666667\n",
      "3            6       0.000000\n",
      "4            7       0.928571\n",
      "...        ...            ...\n",
      "149621  206203       0.222222\n",
      "149622  206206       0.714286\n",
      "149623  206207       0.891304\n",
      "149624  206208       0.696000\n",
      "149625  206209       0.320000\n",
      "\n",
      "[149626 rows x 2 columns]\n"
     ]
    }
   ],
   "source": [
    "\n",
    "\n",
    "merged_df = pd.merge(order_products, instacart_orders, on='order_id', how='left')\n",
    "\n",
    "\n",
    "reorder_ratio = merged_df.groupby('user_id')['reordered'].mean()\n",
    "\n",
    "\n",
    "reorder_ratio = reorder_ratio.reset_index()\n",
    "\n",
    "\n",
    "reorder_ratio.columns = ['id', 'reorder_ratio']\n",
    "\n",
    "\n",
    "print(reorder_ratio)\n",
    "\n"
   ]
  },
  {
   "cell_type": "markdown",
   "id": "BgJSvXDsleXz",
   "metadata": {
    "id": "BgJSvXDsleXz"
   },
   "source": [
    "Escreva suas conclusões aqui"
   ]
  },
  {
   "cell_type": "markdown",
   "id": "92d35137",
   "metadata": {
    "id": "92d35137"
   },
   "source": [
    "### [C5] Quais são os 20 principais itens que as pessoas colocam nos carrinhos antes de todos os outros?"
   ]
  },
  {
   "cell_type": "code",
   "execution_count": 55,
   "id": "0ae57274",
   "metadata": {
    "id": "0ae57274",
    "scrolled": true
   },
   "outputs": [],
   "source": [
    "first_added = order_products[order_products['add_to_cart_order'] == 1]\n",
    "top_20_items = first_added['product_id'].value_counts().head(20)"
   ]
  },
  {
   "cell_type": "code",
   "execution_count": 56,
   "id": "forty-netherlands",
   "metadata": {
    "id": "forty-netherlands",
    "scrolled": true
   },
   "outputs": [],
   "source": [
    "top_20_items = top_20_items.reset_index()\n",
    "top_20_items.columns = ['product_id', 'times_added_first']"
   ]
  },
  {
   "cell_type": "code",
   "execution_count": 57,
   "id": "08e41ec2",
   "metadata": {
    "id": "08e41ec2"
   },
   "outputs": [
    {
     "data": {
      "text/html": [
       "<div>\n",
       "<style scoped>\n",
       "    .dataframe tbody tr th:only-of-type {\n",
       "        vertical-align: middle;\n",
       "    }\n",
       "\n",
       "    .dataframe tbody tr th {\n",
       "        vertical-align: top;\n",
       "    }\n",
       "\n",
       "    .dataframe thead th {\n",
       "        text-align: right;\n",
       "    }\n",
       "</style>\n",
       "<table border=\"1\" class=\"dataframe\">\n",
       "  <thead>\n",
       "    <tr style=\"text-align: right;\">\n",
       "      <th></th>\n",
       "      <th>product_id</th>\n",
       "      <th>times_added_first</th>\n",
       "      <th>product_name</th>\n",
       "      <th>aisle_id</th>\n",
       "      <th>department_id</th>\n",
       "    </tr>\n",
       "  </thead>\n",
       "  <tbody>\n",
       "    <tr>\n",
       "      <th>0</th>\n",
       "      <td>24852</td>\n",
       "      <td>15562</td>\n",
       "      <td>banana</td>\n",
       "      <td>24</td>\n",
       "      <td>4</td>\n",
       "    </tr>\n",
       "    <tr>\n",
       "      <th>1</th>\n",
       "      <td>13176</td>\n",
       "      <td>11026</td>\n",
       "      <td>bag of organic bananas</td>\n",
       "      <td>24</td>\n",
       "      <td>4</td>\n",
       "    </tr>\n",
       "    <tr>\n",
       "      <th>2</th>\n",
       "      <td>27845</td>\n",
       "      <td>4363</td>\n",
       "      <td>organic whole milk</td>\n",
       "      <td>84</td>\n",
       "      <td>16</td>\n",
       "    </tr>\n",
       "    <tr>\n",
       "      <th>3</th>\n",
       "      <td>21137</td>\n",
       "      <td>3946</td>\n",
       "      <td>organic strawberries</td>\n",
       "      <td>24</td>\n",
       "      <td>4</td>\n",
       "    </tr>\n",
       "    <tr>\n",
       "      <th>4</th>\n",
       "      <td>47209</td>\n",
       "      <td>3390</td>\n",
       "      <td>organic hass avocado</td>\n",
       "      <td>24</td>\n",
       "      <td>4</td>\n",
       "    </tr>\n",
       "    <tr>\n",
       "      <th>5</th>\n",
       "      <td>21903</td>\n",
       "      <td>3336</td>\n",
       "      <td>organic baby spinach</td>\n",
       "      <td>123</td>\n",
       "      <td>4</td>\n",
       "    </tr>\n",
       "    <tr>\n",
       "      <th>6</th>\n",
       "      <td>47766</td>\n",
       "      <td>3044</td>\n",
       "      <td>organic avocado</td>\n",
       "      <td>24</td>\n",
       "      <td>4</td>\n",
       "    </tr>\n",
       "    <tr>\n",
       "      <th>7</th>\n",
       "      <td>19660</td>\n",
       "      <td>2336</td>\n",
       "      <td>spring water</td>\n",
       "      <td>115</td>\n",
       "      <td>7</td>\n",
       "    </tr>\n",
       "    <tr>\n",
       "      <th>8</th>\n",
       "      <td>16797</td>\n",
       "      <td>2308</td>\n",
       "      <td>strawberries</td>\n",
       "      <td>24</td>\n",
       "      <td>4</td>\n",
       "    </tr>\n",
       "    <tr>\n",
       "      <th>9</th>\n",
       "      <td>27966</td>\n",
       "      <td>2024</td>\n",
       "      <td>organic raspberries</td>\n",
       "      <td>123</td>\n",
       "      <td>4</td>\n",
       "    </tr>\n",
       "    <tr>\n",
       "      <th>10</th>\n",
       "      <td>44632</td>\n",
       "      <td>1914</td>\n",
       "      <td>sparkling water grapefruit</td>\n",
       "      <td>115</td>\n",
       "      <td>7</td>\n",
       "    </tr>\n",
       "    <tr>\n",
       "      <th>11</th>\n",
       "      <td>49235</td>\n",
       "      <td>1797</td>\n",
       "      <td>organic half &amp; half</td>\n",
       "      <td>53</td>\n",
       "      <td>16</td>\n",
       "    </tr>\n",
       "    <tr>\n",
       "      <th>12</th>\n",
       "      <td>47626</td>\n",
       "      <td>1737</td>\n",
       "      <td>large lemon</td>\n",
       "      <td>24</td>\n",
       "      <td>4</td>\n",
       "    </tr>\n",
       "    <tr>\n",
       "      <th>13</th>\n",
       "      <td>196</td>\n",
       "      <td>1733</td>\n",
       "      <td>soda</td>\n",
       "      <td>77</td>\n",
       "      <td>7</td>\n",
       "    </tr>\n",
       "    <tr>\n",
       "      <th>14</th>\n",
       "      <td>38689</td>\n",
       "      <td>1397</td>\n",
       "      <td>organic reduced fat milk</td>\n",
       "      <td>84</td>\n",
       "      <td>16</td>\n",
       "    </tr>\n",
       "    <tr>\n",
       "      <th>15</th>\n",
       "      <td>26209</td>\n",
       "      <td>1370</td>\n",
       "      <td>limes</td>\n",
       "      <td>24</td>\n",
       "      <td>4</td>\n",
       "    </tr>\n",
       "    <tr>\n",
       "      <th>16</th>\n",
       "      <td>12341</td>\n",
       "      <td>1340</td>\n",
       "      <td>hass avocados</td>\n",
       "      <td>32</td>\n",
       "      <td>4</td>\n",
       "    </tr>\n",
       "    <tr>\n",
       "      <th>17</th>\n",
       "      <td>5785</td>\n",
       "      <td>1310</td>\n",
       "      <td>organic reduced fat 2% milk</td>\n",
       "      <td>84</td>\n",
       "      <td>16</td>\n",
       "    </tr>\n",
       "    <tr>\n",
       "      <th>18</th>\n",
       "      <td>27086</td>\n",
       "      <td>1309</td>\n",
       "      <td>half &amp; half</td>\n",
       "      <td>53</td>\n",
       "      <td>16</td>\n",
       "    </tr>\n",
       "    <tr>\n",
       "      <th>19</th>\n",
       "      <td>22935</td>\n",
       "      <td>1246</td>\n",
       "      <td>organic yellow onion</td>\n",
       "      <td>83</td>\n",
       "      <td>4</td>\n",
       "    </tr>\n",
       "  </tbody>\n",
       "</table>\n",
       "</div>"
      ],
      "text/plain": [
       "    product_id  times_added_first                 product_name  aisle_id  \\\n",
       "0        24852              15562                       banana        24   \n",
       "1        13176              11026       bag of organic bananas        24   \n",
       "2        27845               4363           organic whole milk        84   \n",
       "3        21137               3946         organic strawberries        24   \n",
       "4        47209               3390         organic hass avocado        24   \n",
       "5        21903               3336         organic baby spinach       123   \n",
       "6        47766               3044              organic avocado        24   \n",
       "7        19660               2336                 spring water       115   \n",
       "8        16797               2308                 strawberries        24   \n",
       "9        27966               2024          organic raspberries       123   \n",
       "10       44632               1914   sparkling water grapefruit       115   \n",
       "11       49235               1797          organic half & half        53   \n",
       "12       47626               1737                  large lemon        24   \n",
       "13         196               1733                         soda        77   \n",
       "14       38689               1397     organic reduced fat milk        84   \n",
       "15       26209               1370                        limes        24   \n",
       "16       12341               1340                hass avocados        32   \n",
       "17        5785               1310  organic reduced fat 2% milk        84   \n",
       "18       27086               1309                  half & half        53   \n",
       "19       22935               1246         organic yellow onion        83   \n",
       "\n",
       "    department_id  \n",
       "0               4  \n",
       "1               4  \n",
       "2              16  \n",
       "3               4  \n",
       "4               4  \n",
       "5               4  \n",
       "6               4  \n",
       "7               7  \n",
       "8               4  \n",
       "9               4  \n",
       "10              7  \n",
       "11             16  \n",
       "12              4  \n",
       "13              7  \n",
       "14             16  \n",
       "15              4  \n",
       "16              4  \n",
       "17             16  \n",
       "18             16  \n",
       "19              4  "
      ]
     },
     "execution_count": 57,
     "metadata": {},
     "output_type": "execute_result"
    }
   ],
   "source": [
    "top_20_items = top_20_items.merge(products, on='product_id', how='left')\n",
    "\n",
    "top_20_items"
   ]
  },
  {
   "cell_type": "markdown",
   "id": "28ce9872",
   "metadata": {
    "id": "28ce9872"
   },
   "source": [
    "Escreva suas conclusões aqui"
   ]
  },
  {
   "cell_type": "markdown",
   "id": "TisH_5Cp3wAi",
   "metadata": {
    "id": "TisH_5Cp3wAi"
   },
   "source": [
    "# Conclusão geral do projeto:"
   ]
  },
  {
   "cell_type": "code",
   "execution_count": 58,
   "id": "Nk-4GS7mDwqY",
   "metadata": {
    "id": "Nk-4GS7mDwqY"
   },
   "outputs": [
    {
     "name": "stdout",
     "output_type": "stream",
     "text": [
      "Fique um tanto confuso, não estava entendendo os enuciados pois era muito vago para algo muito complexo\n"
     ]
    }
   ],
   "source": [
    "print(\"Fique um tanto confuso, não estava entendendo os enuciados pois era muito vago para algo muito complexo\")"
   ]
  }
 ],
 "metadata": {
  "colab": {
   "provenance": []
  },
  "kernelspec": {
   "display_name": "Python 3 (ipykernel)",
   "language": "python",
   "name": "python3"
  },
  "language_info": {
   "codemirror_mode": {
    "name": "ipython",
    "version": 3
   },
   "file_extension": ".py",
   "mimetype": "text/x-python",
   "name": "python",
   "nbconvert_exporter": "python",
   "pygments_lexer": "ipython3",
   "version": "3.9.5"
  },
  "toc": {
   "base_numbering": 1,
   "nav_menu": {},
   "number_sections": true,
   "sideBar": true,
   "skip_h1_title": true,
   "title_cell": "Table of Contents",
   "title_sidebar": "Contents",
   "toc_cell": false,
   "toc_position": {},
   "toc_section_display": true,
   "toc_window_display": false
  },
  "vscode": {
   "interpreter": {
    "hash": "01a7be9ec63e704a62cefc5fe7a4756944464ee731be31632bdf42a4cb4688cf"
   }
  }
 },
 "nbformat": 4,
 "nbformat_minor": 5
}
